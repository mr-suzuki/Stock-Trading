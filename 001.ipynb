{
 "cells": [
  {
   "cell_type": "code",
   "execution_count": 1,
   "metadata": {},
   "outputs": [],
   "source": [
    "import numpy as np\n",
    "import pandas as pd\n",
    "import requests \n",
    "import xlsxwriter\n",
    "import math"
   ]
  },
  {
   "cell_type": "code",
   "execution_count": 2,
   "metadata": {},
   "outputs": [],
   "source": [
    "stocks = pd.read_csv(\"sp_500_stocks.csv\")\n",
    "stocks = stocks[~stocks['Ticker'].isin(['DISCA', 'HFC','VIAC','WLTW'])]"
   ]
  },
  {
   "cell_type": "code",
   "execution_count": 3,
   "metadata": {},
   "outputs": [],
   "source": [
    "from secrets import IEX_CLOUD_API_TOKEN"
   ]
  },
  {
   "cell_type": "code",
   "execution_count": 14,
   "metadata": {},
   "outputs": [],
   "source": [
    "my_columns = ['Ticker', 'Stock Price', 'Market Capitalization', 'Number of Shares to Buy']\n",
    "final_dataframe = pd.DataFrame(columns = my_columns)"
   ]
  },
  {
   "cell_type": "code",
   "execution_count": 15,
   "metadata": {},
   "outputs": [],
   "source": [
    "def chunks(lst, n):\n",
    "    \"\"\"Yield successive n-sized chunks from lst.\"\"\"\n",
    "    for i in range(0, len(lst), n):\n",
    "        yield lst[i:i + n]"
   ]
  },
  {
   "cell_type": "code",
   "execution_count": 16,
   "metadata": {},
   "outputs": [
    {
     "name": "stdout",
     "output_type": "stream",
     "text": [
      "A,AAL,AAP,AAPL,ABBV,ABC,ABMD,ABT,ACN,ADBE,ADI,ADM,ADP,ADSK,AEE,AEP,AES,AFL,AIG,AIV,AIZ,AJG,AKAM,ALB,ALGN,ALK,ALL,ALLE,ALXN,AMAT,AMCR,AMD,AME,AMGN,AMP,AMT,AMZN,ANET,ANSS,ANTM,AON,AOS,APA,APD,APH,APTV,ARE,ATO,ATVI,AVB,AVGO,AVY,AWK,AXP,AZO,BA,BAC,BAX,BBY,BDX,BEN,BF.B,BIIB,BIO,BK,BKNG,BKR,BLK,BLL,BMY,BR,BRK.B,BSX,BWA,BXP,C,CAG,CAH,CARR,CAT,CB,CBOE,CBRE,CCI,CCL,CDNS,CDW,CE,CERN,CF,CFG,CHD,CHRW,CHTR,CI,CINF,CL,CLX,CMA,CMCSA\n",
      "CME,CMG,CMI,CMS,CNC,CNP,COF,COG,COO,COP,COST,COTY,CPB,CPRT,CRM,CSCO,CSX,CTAS,CTL,CTSH,CTVA,CTXS,CVS,CVX,CXO,D,DAL,DD,DE,DFS,DG,DGX,DHI,DHR,DIS,DISCK,DISH,DLR,DLTR,DOV,DOW,DPZ,DRE,DRI,DTE,DUK,DVA,DVN,DXC,DXCM,EA,EBAY,ECL,ED,EFX,EIX,EL,EMN,EMR,EOG,EQIX,EQR,ES,ESS,ETFC,ETN,ETR,EVRG,EW,EXC,EXPD,EXPE,EXR,F,FANG,FAST,FB,FBHS,FCX,FDX,FE,FFIV,FIS,FISV,FITB,FLIR,FLS,FLT,FMC,FOX,FOXA,FRC,FRT,FTI,FTNT,FTV,GD,GE,GILD,GIS\n",
      "GL,GLW,GM,GOOG,GOOGL,GPC,GPN,GPS,GRMN,GS,GWW,HAL,HAS,HBAN,HBI,HCA,HD,HES,HIG,HII,HLT,HOLX,HON,HPE,HPQ,HRB,HRL,HSIC,HST,HSY,HUM,HWM,IBM,ICE,IDXX,IEX,IFF,ILMN,INCY,INFO,INTC,INTU,IP,IPG,IPGP,IQV,IR,IRM,ISRG,IT,ITW,IVZ,J,JBHT,JCI,JKHY,JNJ,JNPR,JPM,K,KEY,KEYS,KHC,KIM,KLAC,KMB,KMI,KMX,KO,KR,KSS,KSU,L,LB,LDOS,LEG,LEN,LH,LHX,LIN,LKQ,LLY,LMT,LNC,LNT,LOW,LRCX,LUV,LVS,LW,LYB,LYV,MA,MAA,MAR,MAS,MCD,MCHP,MCK,MCO\n",
      "MDLZ,MDT,MET,MGM,MHK,MKC,MKTX,MLM,MMC,MMM,MNST,MO,MOS,MPC,MRK,MRO,MS,MSCI,MSFT,MSI,MTB,MTD,MU,MXIM,MYL,NBL,NCLH,NDAQ,NEE,NEM,NFLX,NI,NKE,NLOK,NLSN,NOC,NOV,NOW,NRG,NSC,NTAP,NTRS,NUE,NVDA,NVR,NWL,NWS,NWSA,O,ODFL,OKE,OMC,ORCL,ORLY,OTIS,OXY,PAYC,PAYX,PBCT,PCAR,PEAK,PEG,PEP,PFE,PFG,PG,PGR,PH,PHM,PKG,PKI,PLD,PM,PNC,PNR,PNW,PPG,PPL,PRGO,PRU,PSA,PSX,PVH,PWR,PXD,PYPL,QCOM,QRVO,RCL,RE,REG,REGN,RF,RHI,RJF,RL,RMD,ROK,ROL,ROP\n",
      "ROST,RSG,RTX,SBAC,SBUX,SCHW,SEE,SHW,SIVB,SJM,SLB,SLG,SNA,SNPS,SO,SPG,SPGI,SRE,STE,STT,STX,STZ,SWK,SWKS,SYF,SYK,SYY,T,TAP,TDG,TDY,TEL,TFC,TFX,TGT,TIF,TJX,TMO,TMUS,TPR,TROW,TRV,TSCO,TSN,TT,TTWO,TWTR,TXN,TXT,TYL,UA,UAA,UAL,UDR,UHS,ULTA,UNH,UNM,UNP,UPS,URI,USB,V,VAR,VFC,VLO,VMC,VNO,VRSK,VRSN,VRTX,VTR,VZ,WAB,WAT,WBA,WDC,WEC,WELL,WFC,WHR,WM,WMB,WMT,WRB,WRK,WST,WU,WY,WYNN,XEL,XLNX,XOM,XRAY,XRX,XYL,YUM,ZBH,ZBRA,ZION\n",
      "ZTS\n"
     ]
    },
    {
     "data": {
      "text/html": [
       "<div>\n",
       "<style scoped>\n",
       "    .dataframe tbody tr th:only-of-type {\n",
       "        vertical-align: middle;\n",
       "    }\n",
       "\n",
       "    .dataframe tbody tr th {\n",
       "        vertical-align: top;\n",
       "    }\n",
       "\n",
       "    .dataframe thead th {\n",
       "        text-align: right;\n",
       "    }\n",
       "</style>\n",
       "<table border=\"1\" class=\"dataframe\">\n",
       "  <thead>\n",
       "    <tr style=\"text-align: right;\">\n",
       "      <th></th>\n",
       "      <th>Ticker</th>\n",
       "      <th>Stock Price</th>\n",
       "      <th>Market Capitalization</th>\n",
       "      <th>Number of Shares to Buy</th>\n",
       "    </tr>\n",
       "  </thead>\n",
       "  <tbody>\n",
       "    <tr>\n",
       "      <th>0</th>\n",
       "      <td>A</td>\n",
       "      <td>129.88</td>\n",
       "      <td>38449749232</td>\n",
       "      <td>N/A</td>\n",
       "    </tr>\n",
       "    <tr>\n",
       "      <th>1</th>\n",
       "      <td>AAL</td>\n",
       "      <td>13.71</td>\n",
       "      <td>8910141161</td>\n",
       "      <td>N/A</td>\n",
       "    </tr>\n",
       "    <tr>\n",
       "      <th>2</th>\n",
       "      <td>AAP</td>\n",
       "      <td>171.34</td>\n",
       "      <td>10300659070</td>\n",
       "      <td>N/A</td>\n",
       "    </tr>\n",
       "    <tr>\n",
       "      <th>3</th>\n",
       "      <td>AAPL</td>\n",
       "      <td>147.27</td>\n",
       "      <td>2366739647040</td>\n",
       "      <td>N/A</td>\n",
       "    </tr>\n",
       "    <tr>\n",
       "      <th>4</th>\n",
       "      <td>ABBV</td>\n",
       "      <td>147.06</td>\n",
       "      <td>260016270555</td>\n",
       "      <td>N/A</td>\n",
       "    </tr>\n",
       "    <tr>\n",
       "      <th>...</th>\n",
       "      <td>...</td>\n",
       "      <td>...</td>\n",
       "      <td>...</td>\n",
       "      <td>...</td>\n",
       "    </tr>\n",
       "    <tr>\n",
       "      <th>496</th>\n",
       "      <td>YUM</td>\n",
       "      <td>111.03</td>\n",
       "      <td>31592750888</td>\n",
       "      <td>N/A</td>\n",
       "    </tr>\n",
       "    <tr>\n",
       "      <th>497</th>\n",
       "      <td>ZBH</td>\n",
       "      <td>107.39</td>\n",
       "      <td>22532521260</td>\n",
       "      <td>N/A</td>\n",
       "    </tr>\n",
       "    <tr>\n",
       "      <th>498</th>\n",
       "      <td>ZBRA</td>\n",
       "      <td>263.04</td>\n",
       "      <td>13622826081</td>\n",
       "      <td>N/A</td>\n",
       "    </tr>\n",
       "    <tr>\n",
       "      <th>499</th>\n",
       "      <td>ZION</td>\n",
       "      <td>47.82</td>\n",
       "      <td>7195541153</td>\n",
       "      <td>N/A</td>\n",
       "    </tr>\n",
       "    <tr>\n",
       "      <th>500</th>\n",
       "      <td>ZTS</td>\n",
       "      <td>147.21</td>\n",
       "      <td>68914678595</td>\n",
       "      <td>N/A</td>\n",
       "    </tr>\n",
       "  </tbody>\n",
       "</table>\n",
       "<p>501 rows × 4 columns</p>\n",
       "</div>"
      ],
      "text/plain": [
       "    Ticker Stock Price Market Capitalization Number of Shares to Buy\n",
       "0        A      129.88           38449749232                     N/A\n",
       "1      AAL       13.71            8910141161                     N/A\n",
       "2      AAP      171.34           10300659070                     N/A\n",
       "3     AAPL      147.27         2366739647040                     N/A\n",
       "4     ABBV      147.06          260016270555                     N/A\n",
       "..     ...         ...                   ...                     ...\n",
       "496    YUM      111.03           31592750888                     N/A\n",
       "497    ZBH      107.39           22532521260                     N/A\n",
       "498   ZBRA      263.04           13622826081                     N/A\n",
       "499   ZION       47.82            7195541153                     N/A\n",
       "500    ZTS      147.21           68914678595                     N/A\n",
       "\n",
       "[501 rows x 4 columns]"
      ]
     },
     "execution_count": 16,
     "metadata": {},
     "output_type": "execute_result"
    }
   ],
   "source": [
    "symbol_groups = list(chunks(stocks['Ticker'], 100))\n",
    "symbol_strings = []\n",
    "for i in range(0, len(symbol_groups)):\n",
    "    symbol_strings.append(','.join(symbol_groups[i]))\n",
    "    print(symbol_strings[i])\n",
    "final_dataframe = pd.DataFrame(columns = my_columns)\n",
    "for symbol_string in symbol_strings:\n",
    "    batch_api_call_uri = f'https://cloud.iexapis.com/stable/stock/market/batch/?types=quote&symbols={symbol_string}&token={IEX_CLOUD_API_TOKEN}'\n",
    "    data = requests.get(batch_api_call_uri).json()\n",
    "    for symbol in symbol_string.split(','):\n",
    "        final_dataframe = pd.concat([final_dataframe, pd.DataFrame(\n",
    "        {\n",
    "            final_dataframe.columns[0]: [symbol],\n",
    "            final_dataframe.columns[1]: [data[symbol]['quote']['latestPrice']],\n",
    "            final_dataframe.columns[2]: [data[symbol]['quote']['marketCap']],\n",
    "            final_dataframe.columns[3]: [\"N/A\"],\n",
    "        }\n",
    "        )], ignore_index=True)\n",
    "final_dataframe\n",
    "        "
   ]
  },
  {
   "cell_type": "code",
   "execution_count": 58,
   "metadata": {},
   "outputs": [
    {
     "name": "stdout",
     "output_type": "stream",
     "text": [
      "100000000.0\n"
     ]
    }
   ],
   "source": [
    "portfolio_size = input('Enter the value of your portfolio:')\n",
    "try: \n",
    "    val = float(portfolio_size)\n",
    "    print(val)\n",
    "except ValueError:\n",
    "    print(\"That's not a number! \\nPlease try again:\")\n",
    "    portfolio_size = input('Enter the value of your portfolio:')"
   ]
  },
  {
   "cell_type": "code",
   "execution_count": 59,
   "metadata": {},
   "outputs": [
    {
     "data": {
      "text/html": [
       "<div>\n",
       "<style scoped>\n",
       "    .dataframe tbody tr th:only-of-type {\n",
       "        vertical-align: middle;\n",
       "    }\n",
       "\n",
       "    .dataframe tbody tr th {\n",
       "        vertical-align: top;\n",
       "    }\n",
       "\n",
       "    .dataframe thead th {\n",
       "        text-align: right;\n",
       "    }\n",
       "</style>\n",
       "<table border=\"1\" class=\"dataframe\">\n",
       "  <thead>\n",
       "    <tr style=\"text-align: right;\">\n",
       "      <th></th>\n",
       "      <th>Ticker</th>\n",
       "      <th>Stock Price</th>\n",
       "      <th>Market Capitalization</th>\n",
       "      <th>Number of Shares to Buy</th>\n",
       "    </tr>\n",
       "  </thead>\n",
       "  <tbody>\n",
       "    <tr>\n",
       "      <th>0</th>\n",
       "      <td>A</td>\n",
       "      <td>129.88</td>\n",
       "      <td>38449749232</td>\n",
       "      <td>1536</td>\n",
       "    </tr>\n",
       "    <tr>\n",
       "      <th>1</th>\n",
       "      <td>AAL</td>\n",
       "      <td>13.71</td>\n",
       "      <td>8910141161</td>\n",
       "      <td>14558</td>\n",
       "    </tr>\n",
       "    <tr>\n",
       "      <th>2</th>\n",
       "      <td>AAP</td>\n",
       "      <td>171.34</td>\n",
       "      <td>10300659070</td>\n",
       "      <td>1164</td>\n",
       "    </tr>\n",
       "    <tr>\n",
       "      <th>3</th>\n",
       "      <td>AAPL</td>\n",
       "      <td>147.27</td>\n",
       "      <td>2366739647040</td>\n",
       "      <td>1355</td>\n",
       "    </tr>\n",
       "    <tr>\n",
       "      <th>4</th>\n",
       "      <td>ABBV</td>\n",
       "      <td>147.06</td>\n",
       "      <td>260016270555</td>\n",
       "      <td>1357</td>\n",
       "    </tr>\n",
       "    <tr>\n",
       "      <th>...</th>\n",
       "      <td>...</td>\n",
       "      <td>...</td>\n",
       "      <td>...</td>\n",
       "      <td>...</td>\n",
       "    </tr>\n",
       "    <tr>\n",
       "      <th>496</th>\n",
       "      <td>YUM</td>\n",
       "      <td>111.03</td>\n",
       "      <td>31592750888</td>\n",
       "      <td>1797</td>\n",
       "    </tr>\n",
       "    <tr>\n",
       "      <th>497</th>\n",
       "      <td>ZBH</td>\n",
       "      <td>107.39</td>\n",
       "      <td>22532521260</td>\n",
       "      <td>1858</td>\n",
       "    </tr>\n",
       "    <tr>\n",
       "      <th>498</th>\n",
       "      <td>ZBRA</td>\n",
       "      <td>263.04</td>\n",
       "      <td>13622826081</td>\n",
       "      <td>758</td>\n",
       "    </tr>\n",
       "    <tr>\n",
       "      <th>499</th>\n",
       "      <td>ZION</td>\n",
       "      <td>47.82</td>\n",
       "      <td>7195541153</td>\n",
       "      <td>4174</td>\n",
       "    </tr>\n",
       "    <tr>\n",
       "      <th>500</th>\n",
       "      <td>ZTS</td>\n",
       "      <td>147.21</td>\n",
       "      <td>68914678595</td>\n",
       "      <td>1355</td>\n",
       "    </tr>\n",
       "  </tbody>\n",
       "</table>\n",
       "<p>501 rows × 4 columns</p>\n",
       "</div>"
      ],
      "text/plain": [
       "    Ticker Stock Price Market Capitalization Number of Shares to Buy\n",
       "0        A      129.88           38449749232                    1536\n",
       "1      AAL       13.71            8910141161                   14558\n",
       "2      AAP      171.34           10300659070                    1164\n",
       "3     AAPL      147.27         2366739647040                    1355\n",
       "4     ABBV      147.06          260016270555                    1357\n",
       "..     ...         ...                   ...                     ...\n",
       "496    YUM      111.03           31592750888                    1797\n",
       "497    ZBH      107.39           22532521260                    1858\n",
       "498   ZBRA      263.04           13622826081                     758\n",
       "499   ZION       47.82            7195541153                    4174\n",
       "500    ZTS      147.21           68914678595                    1355\n",
       "\n",
       "[501 rows x 4 columns]"
      ]
     },
     "execution_count": 59,
     "metadata": {},
     "output_type": "execute_result"
    }
   ],
   "source": [
    "position_size = val/len(final_dataframe.index)\n",
    "for i in range(0, len(final_dataframe.index)):\n",
    "    final_dataframe.loc[i, \"Number of Shares to Buy\"] = math.floor(position_size/final_dataframe[\"Stock Price\"][i])\n",
    "\n",
    "final_dataframe\n"
   ]
  },
  {
   "cell_type": "code",
   "execution_count": 87,
   "metadata": {},
   "outputs": [
    {
     "name": "stderr",
     "output_type": "stream",
     "text": [
      "/var/folders/y3/jmcnq4pj2fqc4yw48rkvt1zr0000gn/T/ipykernel_8835/2854146335.py:1: FutureWarning: Use of **kwargs is deprecated, use engine_kwargs instead.\n",
      "  writer = pd.ExcelWriter('Stocks.xlsx', engine='xlsxwriter', options={'strings_to_urls': False})\n"
     ]
    }
   ],
   "source": [
    "writer = pd.ExcelWriter('Stocks.xlsx', engine='xlsxwriter', options={'strings_to_urls': False})\n",
    "final_dataframe.to_excel(writer, 'Stocks', index=False)"
   ]
  },
  {
   "cell_type": "code",
   "execution_count": 89,
   "metadata": {},
   "outputs": [],
   "source": [
    "bg_colour = '#C0C999'\n",
    "font_colour = '#000000'\n",
    "\n",
    "\n",
    "string_format = writer.book.add_format(\n",
    "    {\n",
    "        'font_color': font_colour,\n",
    "        'bg_color': bg_colour,\n",
    "        'border': 1\n",
    "    }\n",
    ")\n",
    "dollar_format = writer.book.add_format(\n",
    "    {\n",
    "        'num_format': '$0.00',\n",
    "        'font_color': font_colour,\n",
    "        'bg_color': bg_colour,\n",
    "        'border': 1\n",
    "    }\n",
    ")\n",
    "integer_format = writer.book.add_format(\n",
    "    {\n",
    "        'num_format': '0',\n",
    "        'font_color': font_colour,\n",
    "        'bg_color': bg_colour,\n",
    "        'border': 1\n",
    "    }\n",
    ")\n"
   ]
  },
  {
   "cell_type": "code",
   "execution_count": 90,
   "metadata": {},
   "outputs": [
    {
     "data": {
      "text/plain": [
       "0"
      ]
     },
     "execution_count": 90,
     "metadata": {},
     "output_type": "execute_result"
    }
   ],
   "source": [
    "writer.sheets['Stocks'].set_column('A:A', 18, string_format)\n",
    "writer.sheets['Stocks'].set_column('B:B', 18, dollar_format)\n",
    "writer.sheets['Stocks'].set_column('C:C', 18, dollar_format)\n",
    "writer.sheets['Stocks'].set_column('D:D', 18, integer_format)\n"
   ]
  },
  {
   "cell_type": "code",
   "execution_count": 91,
   "metadata": {},
   "outputs": [],
   "source": [
    "column_formats = {\n",
    "    'A': ['Ticker', string_format],\n",
    "    'B': ['Stock Price', dollar_format],\n",
    "    'C': ['Market Capitalization', dollar_format],\n",
    "    'D': ['Number of Shares to Buy', integer_format]\n",
    "}\n",
    "for column in column_formats.keys():\n",
    "    writer.sheets['Stocks'].set_column(f'{column}:{column}', 20, column_formats[column][1])\n",
    "    writer.sheets['Stocks'].write(f'{column}1', column_formats[column][0])\n"
   ]
  },
  {
   "cell_type": "code",
   "execution_count": 92,
   "metadata": {},
   "outputs": [],
   "source": [
    "writer.save()"
   ]
  }
 ],
 "metadata": {
  "kernelspec": {
   "display_name": "Python 3.9.12 ('base')",
   "language": "python",
   "name": "python3"
  },
  "language_info": {
   "codemirror_mode": {
    "name": "ipython",
    "version": 3
   },
   "file_extension": ".py",
   "mimetype": "text/x-python",
   "name": "python",
   "nbconvert_exporter": "python",
   "pygments_lexer": "ipython3",
   "version": "3.9.12"
  },
  "orig_nbformat": 4,
  "vscode": {
   "interpreter": {
    "hash": "5b87b96c3ef62a73f25ece8e1c7cc2010248fe2e95d3124b0e730fdf895637ce"
   }
  }
 },
 "nbformat": 4,
 "nbformat_minor": 2
}
